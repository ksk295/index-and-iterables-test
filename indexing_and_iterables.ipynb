{
 "cells": [
  {
   "cell_type": "markdown",
   "id": "3d7637c6-e4ff-48a7-a269-b8f3561d849a",
   "metadata": {},
   "source": [
    "##### **Content under Creative Commons Attribution license [CC-BY 4.0](LICENSE/CC-BY-4.0.md); Code licensed under [BSD 3-Clause Clear](LICENSE/BSD3CLAUSE.md) © 2025 by J. E. Guyer**\n",
    "\n",
    "**Student submissions licensed under [UMD Academic License](LICENSE/UMDACADEMIC.md) © 2025 by YOUR NAME HERE** Junbo Hu"
   ]
  },
  {
   "cell_type": "markdown",
   "id": "cbde73f4-c169-4339-8317-2e61a7f630b7",
   "metadata": {
    "tags": []
   },
   "source": [
    "# ENMA165: Indexing, Slicing, and Iterables (100 points total)\n",
    "\n",
    "Submit your solutions in the cells of this notebook as a **pull request**.\n",
    "\n",
    "Answers will be scored on correctness, conciseness, and descriptive variable names. Comments which help clarify the code are encouraged; comments which are redundant to the code are not.\n",
    "\n",
    "While some questions can be answered by casual observation of the data, your assignment is to *write code* that produces the answers.\n",
    "\n",
    "Use tab-completion, `help()`, and other forms of Python introspection to identify the functions and methods you need, what arguments they take, and what values they return."
   ]
  },
  {
   "cell_type": "markdown",
   "id": "e2b10b42-5d48-44e9-a215-2c6daa526d13",
   "metadata": {
    "tags": []
   },
   "source": [
    "## Q1 (4 points)\n",
    "\n",
    "Print character 0 from the string `\"helium\"`"
   ]
  },
  {
   "cell_type": "code",
   "execution_count": 5,
   "id": "0bc6ee74-1163-4ddf-981f-ca411e869a8b",
   "metadata": {
    "tags": []
   },
   "outputs": [
    {
     "name": "stdout",
     "output_type": "stream",
     "text": [
      "h\n"
     ]
    }
   ],
   "source": [
    "print(\"helium\"[0])"
   ]
  },
  {
   "cell_type": "markdown",
   "id": "5652d9a4-0fe4-4c73-88b8-e10d0138675d",
   "metadata": {
    "tags": []
   },
   "source": [
    "## Q2 (4 points)\n",
    "\n",
    "Print character 3 from the string `\"helium\"`"
   ]
  },
  {
   "cell_type": "code",
   "execution_count": 4,
   "id": "3ba07054-d07d-430a-97db-38bc88221945",
   "metadata": {
    "tags": []
   },
   "outputs": [
    {
     "name": "stdout",
     "output_type": "stream",
     "text": [
      "i\n"
     ]
    }
   ],
   "source": [
    "print(\"helium\"[3])"
   ]
  },
  {
   "cell_type": "markdown",
   "id": "832a9c31-7d63-4046-a61e-a1340ee90476",
   "metadata": {
    "tags": []
   },
   "source": [
    "## Q3 (4 points)\n",
    "\n",
    "Print the last character from the string `\"helium\"`"
   ]
  },
  {
   "cell_type": "code",
   "execution_count": 6,
   "id": "866f41a5-6def-4675-a013-eb0d3ab947ff",
   "metadata": {
    "tags": []
   },
   "outputs": [
    {
     "name": "stdout",
     "output_type": "stream",
     "text": [
      "m\n"
     ]
    }
   ],
   "source": [
    "print(\"helium\"[-1])"
   ]
  },
  {
   "cell_type": "markdown",
   "id": "6d3c4391-c193-45b2-a9d6-aaadefa4812e",
   "metadata": {},
   "source": [
    "## Q4 (4 points)\n",
    "\n",
    "Given\n",
    "```python\n",
    "s = \"helium\"\n",
    "```\n",
    "which of the following will print \"`liu`\"?\n",
    "\n",
    "1. `print(s[2:4])`\n",
    "1. `print(s[2:5])`\n",
    "1. `print(s[-5:-2])`\n",
    "1. `print(s[-2:-5])`\n",
    "1. `print(s[-4:-1])`"
   ]
  },
  {
   "cell_type": "markdown",
   "id": "cdf03521-70f0-410b-922e-99ea2cddcf27",
   "metadata": {},
   "source": [
    "print(s[2:5]) and print(s[-4:1])"
   ]
  },
  {
   "cell_type": "markdown",
   "id": "6aba1285-37b2-4e45-b3de-2a1b98f435d8",
   "metadata": {},
   "source": [
    "For the options that don't print \"`liu`\", explain why not:"
   ]
  },
  {
   "cell_type": "markdown",
   "id": "7af373d7-2c20-4424-8e60-94ada0b825b1",
   "metadata": {},
   "source": [
    "the first one only shows li and the third one shows eli, finally the fourth one is incorrect since -2 is greater than -5."
   ]
  },
  {
   "cell_type": "markdown",
   "id": "07cfe9b9-5636-403e-8bc6-33e2e8872257",
   "metadata": {
    "tags": []
   },
   "source": [
    "## Q5 (4 points)\n",
    "\n",
    "Given\n",
    "```python\n",
    "s = \"supercalifragilisticexpialidocious\"\n",
    "```\n",
    "which of the following will print \"`i`\"?\n",
    "\n",
    "1. `print(s[8])`\n",
    "2. `print(s[8.0])`\n",
    "3. `print(s[-8])`\n",
    "4. `print(s[13:13])`\n",
    "5. `print(s[13:14])`\n",
    "6. `print(s[14:17][-2])`\n",
    "7. `print([s[16], s[18], s[20]][1])`\n",
    "5. `print(s[::-1][4])`"
   ]
  },
  {
   "cell_type": "markdown",
   "id": "becd8ecd-56fc-4999-aca3-eea7efc108bf",
   "metadata": {},
   "source": [
    "1,3,5,6,7"
   ]
  },
  {
   "cell_type": "markdown",
   "id": "472e413b-ab85-4f4f-bb9b-4f0ccbc9321f",
   "metadata": {},
   "source": [
    "For the options that don't print \"`i`\", explain why not:"
   ]
  },
  {
   "cell_type": "markdown",
   "id": "068e1aac-876a-4b9d-b164-35a2638be344",
   "metadata": {},
   "source": [
    "The 2 is incorrect form 4 is incorrect form and 8 prints c"
   ]
  },
  {
   "cell_type": "markdown",
   "id": "7beb0e00-8414-4818-9a8c-aefc53b0c005",
   "metadata": {
    "tags": []
   },
   "source": [
    "## Q6 (4 points)\n",
    "\n",
    "Print every other character from the string `\"supercalifragilisticexpialidocious\"`, starting from the first \"s\""
   ]
  },
  {
   "cell_type": "code",
   "execution_count": 1,
   "id": "3b1a2bdd-b47e-497a-9692-4c55a3579cd2",
   "metadata": {
    "tags": []
   },
   "outputs": [
    {
     "name": "stdout",
     "output_type": "stream",
     "text": [
      "sprairglsiepaioiu\n"
     ]
    }
   ],
   "source": [
    "print(\"supercalifragilisticexpialidocious\"[::2])"
   ]
  },
  {
   "cell_type": "markdown",
   "id": "bfde2360-e9f1-421b-ab63-2f307bf32d8f",
   "metadata": {
    "tags": []
   },
   "source": [
    "## Q7 (4 points)\n",
    "\n",
    "Print every other character from the string `\"supercalifragilisticexpialidocious\"`, starting from the first \"u\""
   ]
  },
  {
   "cell_type": "code",
   "execution_count": 2,
   "id": "92f48973-44ca-4169-a4bc-61e2db2409b1",
   "metadata": {
    "tags": []
   },
   "outputs": [
    {
     "name": "stdout",
     "output_type": "stream",
     "text": [
      "ueclfaiitcxildcos\n"
     ]
    }
   ],
   "source": [
    "print(\"supercalifragilisticexpialidocious\"[1::2])"
   ]
  },
  {
   "cell_type": "markdown",
   "id": "734f0b2b-f400-4ce4-bac6-917d8f111065",
   "metadata": {
    "tags": []
   },
   "source": [
    "## Q8 (4 points)\n",
    "\n",
    "Without executing the code, what do you think is the result of\n",
    "```python\n",
    "s = \"supercalifragilisticexpialidocious\"\n",
    "print(s[0:5])\n",
    "```"
   ]
  },
  {
   "cell_type": "markdown",
   "id": "0ec0c580-7adb-4cb0-9931-a509d10e66ca",
   "metadata": {
    "tags": []
   },
   "source": [
    "super"
   ]
  },
  {
   "cell_type": "markdown",
   "id": "658cb24b-b67c-4a7b-bc73-bbdc985729a2",
   "metadata": {},
   "source": [
    "What is the actual result of executing the code?"
   ]
  },
  {
   "cell_type": "markdown",
   "id": "bd7a4638-e00d-4cce-8b68-3e4f79b93ed4",
   "metadata": {
    "tags": []
   },
   "source": [
    "s = \"supercalifragilisticexpialidocious\"\n",
    "print(s[0:5])"
   ]
  },
  {
   "cell_type": "markdown",
   "id": "37a7c4a4-8288-408c-b838-8c3b3d927db7",
   "metadata": {
    "tags": []
   },
   "source": [
    "## Q9 (4 points)\n",
    "\n",
    "Without executing the code, what do you think is the result of\n",
    "```python\n",
    "s = \"supercalifragilisticexpialidocious\"\n",
    "print(s[5:10])\n",
    "```"
   ]
  },
  {
   "cell_type": "markdown",
   "id": "bf944453-d1cd-4a10-8e26-217321963fe9",
   "metadata": {
    "tags": []
   },
   "source": [
    "calif"
   ]
  },
  {
   "cell_type": "markdown",
   "id": "2ee8e259-2f1d-46fd-bb52-e3c325218c02",
   "metadata": {},
   "source": [
    "What is the actual result of executing the code?"
   ]
  },
  {
   "cell_type": "code",
   "execution_count": 5,
   "id": "b17caf2e-7c47-4ded-82b7-8a23338432a5",
   "metadata": {},
   "outputs": [
    {
     "name": "stdout",
     "output_type": "stream",
     "text": [
      "calif\n"
     ]
    }
   ],
   "source": [
    "s = \"supercalifragilisticexpialidocious\"\n",
    "print(s[5:10])"
   ]
  },
  {
   "cell_type": "markdown",
   "id": "2bad3ea7-a263-441f-8292-d615dd1441b4",
   "metadata": {
    "tags": []
   },
   "source": [
    "## Q10 (4 points)\n",
    "\n",
    "Without executing the code, what do you think is the result of\n",
    "```python\n",
    "s = \"supercalifragilisticexpialidocious\"\n",
    "print(s[-10:-5])\n",
    "```"
   ]
  },
  {
   "cell_type": "markdown",
   "id": "eb2b4fae-3368-4fa4-9333-075493d0b99c",
   "metadata": {
    "tags": []
   },
   "source": [
    "alido"
   ]
  },
  {
   "cell_type": "markdown",
   "id": "b1032e03-11b7-4f0f-8e73-01e2734733a0",
   "metadata": {},
   "source": [
    "What is the actual result of executing the code?"
   ]
  },
  {
   "cell_type": "code",
   "execution_count": 4,
   "id": "3f89c995-1c81-42c6-86b2-475422f30656",
   "metadata": {},
   "outputs": [
    {
     "name": "stdout",
     "output_type": "stream",
     "text": [
      "alido\n"
     ]
    }
   ],
   "source": [
    "s = \"supercalifragilisticexpialidocious\"\n",
    "print(s[-10:-5])"
   ]
  },
  {
   "cell_type": "markdown",
   "id": "088bcb3e-d8dc-480f-a542-dc6c8274dff0",
   "metadata": {
    "tags": []
   },
   "source": [
    "## Q11 (4 points)\n",
    "\n",
    "Without executing the code, what do you think is the result of\n",
    "```python\n",
    "s = \"supercalifragilisticexpialidocious\"\n",
    "print(s[-5:-10])\n",
    "```"
   ]
  },
  {
   "cell_type": "markdown",
   "id": "cdf8aa01-05db-426a-845a-4e9ad3e5e5cf",
   "metadata": {
    "tags": []
   },
   "source": [
    "nothing"
   ]
  },
  {
   "cell_type": "markdown",
   "id": "6b00b75c-5e70-4d34-9828-fbdd05a0f498",
   "metadata": {},
   "source": [
    "What is the actual result of executing the code?"
   ]
  },
  {
   "cell_type": "code",
   "execution_count": 7,
   "id": "f72dd5e3-a623-413c-936c-b6fc37d5a6bc",
   "metadata": {},
   "outputs": [
    {
     "name": "stdout",
     "output_type": "stream",
     "text": [
      "\n"
     ]
    }
   ],
   "source": [
    "s = \"supercalifragilisticexpialidocious\"\n",
    "print(s[-5:-10])"
   ]
  },
  {
   "cell_type": "markdown",
   "id": "e57c6958-8153-4a14-b3f1-c92bb5fb868f",
   "metadata": {
    "tags": []
   },
   "source": [
    "## Q12 (4 points)\n",
    "\n",
    "Without executing the code, what do you think is the result of\n",
    "```python\n",
    "s = \"supercalifragilisticexpialidocious\"\n",
    "print(s[-5:-10:-1])\n",
    "```"
   ]
  },
  {
   "cell_type": "markdown",
   "id": "3eaa5832-9ba9-4c60-bb0c-8562d43e6fac",
   "metadata": {
    "tags": []
   },
   "source": [
    "codil"
   ]
  },
  {
   "cell_type": "markdown",
   "id": "c2039cf2-f681-4a0d-8e69-0a798e1fbba9",
   "metadata": {},
   "source": [
    "What is the actual result of executing the code?"
   ]
  },
  {
   "cell_type": "code",
   "execution_count": 8,
   "id": "971a9a2b-15a9-4c7d-8ae7-a6ffd4b7c00d",
   "metadata": {},
   "outputs": [
    {
     "name": "stdout",
     "output_type": "stream",
     "text": [
      "codil\n"
     ]
    }
   ],
   "source": [
    "s = \"supercalifragilisticexpialidocious\"\n",
    "print(s[-5:-10:-1])"
   ]
  },
  {
   "cell_type": "markdown",
   "id": "e2269d34-6de9-4fc1-99fd-c5b9e9ee9872",
   "metadata": {},
   "source": [
    "## Q13 (4 points)\n",
    "\n",
    "Print item three in the list `[\"apple\", \"banana\", \"canteloupe\", \"durian\"]`"
   ]
  },
  {
   "cell_type": "code",
   "execution_count": 9,
   "id": "da09b447-5fac-489e-b11d-a9f896f9c79a",
   "metadata": {},
   "outputs": [
    {
     "name": "stdout",
     "output_type": "stream",
     "text": [
      "canteloupe\n"
     ]
    }
   ],
   "source": [
    "print([\"apple\", \"banana\", \"canteloupe\", \"durian\"][2])"
   ]
  },
  {
   "cell_type": "markdown",
   "id": "e34c709e-6195-4292-8726-e49948c8c126",
   "metadata": {},
   "source": [
    "## Q14 (4 points)\n",
    "\n",
    "Print the last item in the list `[\"apple\", \"banana\", \"canteloupe\", \"durian\"]`"
   ]
  },
  {
   "cell_type": "code",
   "execution_count": 10,
   "id": "4ffa215e-644a-4a46-a84d-f9a254c887a9",
   "metadata": {
    "tags": []
   },
   "outputs": [
    {
     "name": "stdout",
     "output_type": "stream",
     "text": [
      "durian\n"
     ]
    }
   ],
   "source": [
    "print([\"apple\", \"banana\", \"canteloupe\", \"durian\"][3])"
   ]
  },
  {
   "cell_type": "markdown",
   "id": "a60cd580-dd07-41ea-a158-5ffb1eea2f1b",
   "metadata": {},
   "source": [
    "## Q15 (4 points)\n",
    "\n",
    "Fill in the blanks to produce the output\n",
    "```\n",
    "a\n",
    "b\n",
    "c\n",
    "d\n",
    "```"
   ]
  },
  {
   "cell_type": "code",
   "execution_count": 13,
   "id": "73b98dad-6707-4fba-a938-b7aeb15695cb",
   "metadata": {
    "tags": []
   },
   "outputs": [
    {
     "name": "stdout",
     "output_type": "stream",
     "text": [
      "apple\n",
      "banana\n",
      "canteloupe\n",
      "durian\n"
     ]
    }
   ],
   "source": [
    "for fruit in [\"apple\", \"banana\", \"canteloupe\", \"durian\"]:\n",
    "    print(fruit)"
   ]
  },
  {
   "cell_type": "markdown",
   "id": "4ebfbb20-c6d6-409b-a8b1-bcf37fe9c219",
   "metadata": {},
   "source": [
    "## Q16 (4 points)\n",
    "\n",
    "Print character 3 of item 3 in the list `[\"apple\", \"banana\", \"canteloupe\", \"durian\"]`"
   ]
  },
  {
   "cell_type": "code",
   "execution_count": 14,
   "id": "a4975cd2-64e0-456c-83f6-7696c607bf74",
   "metadata": {
    "tags": []
   },
   "outputs": [
    {
     "name": "stdout",
     "output_type": "stream",
     "text": [
      "t\n"
     ]
    }
   ],
   "source": [
    "print([\"apple\", \"banana\", \"canteloupe\", \"durian\"][2][3])"
   ]
  },
  {
   "cell_type": "markdown",
   "id": "11a1ee25-aae7-4e2c-b09e-a4260debf0d3",
   "metadata": {
    "tags": []
   },
   "source": [
    "## Q17 (4 points)\n",
    "\n",
    "Without executing the code, what do you think is the result of\n",
    "```python\n",
    "l = [\"apple\", \"banana\", \"canteloupe\", \"durian\"]\n",
    "del l[-2]\n",
    "print(l[2])\n",
    "```"
   ]
  },
  {
   "cell_type": "markdown",
   "id": "a212232b-551e-4dfe-8366-db37269c908d",
   "metadata": {},
   "source": [
    "durian"
   ]
  },
  {
   "cell_type": "markdown",
   "id": "7de75505-f3f3-4a69-9eab-8c8f08d440c8",
   "metadata": {},
   "source": [
    "What is the actual result of executing the code?"
   ]
  },
  {
   "cell_type": "code",
   "execution_count": 15,
   "id": "0e029d5a-833b-476b-b112-ba855c3cf974",
   "metadata": {},
   "outputs": [
    {
     "name": "stdout",
     "output_type": "stream",
     "text": [
      "durian\n"
     ]
    }
   ],
   "source": [
    "l = [\"apple\", \"banana\", \"canteloupe\", \"durian\"]\n",
    "del l[-2]\n",
    "print(l[2])"
   ]
  },
  {
   "cell_type": "markdown",
   "id": "39d2bc0e-77c2-4489-b10d-4dce66c48d06",
   "metadata": {},
   "source": [
    "## Q18 (4 points)\n",
    "\n",
    "Given\n",
    "```python\n",
    "d = {\"apple\": 1.414, \"banana\": 1.618, \"canteloupe\": 2.718, \"durian\": 3.142}\n",
    "```\n",
    "Which of the following will print \"`1.618`\"?\n",
    "\n",
    "1. `print(d[\"apple\"])`\n",
    "1. `print(d[\"banana\"])`\n",
    "1. `print(d[1])`\n",
    "1. `print(d[banana])`"
   ]
  },
  {
   "cell_type": "markdown",
   "id": "19b97457-3da6-426f-90ed-17f675b98cd0",
   "metadata": {},
   "source": [
    "2"
   ]
  },
  {
   "cell_type": "markdown",
   "id": "db117f3a-4766-46b8-8887-0fd07d8ef02e",
   "metadata": {},
   "source": [
    "For the options that don't print \"`1.618`\", explain why not:"
   ]
  },
  {
   "cell_type": "markdown",
   "id": "561fdb7a-c2d1-4bd6-b16f-4b8550096a39",
   "metadata": {},
   "source": [
    " 1 print wrong number, 3 prints nothing, 4 has wrong format"
   ]
  },
  {
   "cell_type": "markdown",
   "id": "34e8f27c-12f6-4f7d-9ab2-4f3b2e6ee5ee",
   "metadata": {},
   "source": [
    "## Q19 (4 points)\n",
    "\n",
    "Given\n",
    "```python\n",
    "d = {\"apple\": 2, \"banana\": \"2\", \"canteloupe\": 2.0, \"durian\": \"2.0\", 2: 2}\n",
    "```\n",
    "which of the following will print \"`2`\"?\n",
    "\n",
    "1. `print(d[\"apple\"])`\n",
    "1. `print(d[\"banana\"])`\n",
    "1. `print(d[\"canteloupe\"])`\n",
    "1. `print(d[\"durian\"])`\n",
    "1. `print(d[0])`\n",
    "1. `print(d[2])`\n",
    "1. `print(str(d[\"canteloupe\"])[0])`\n",
    "1. `print(int(d[\"durian\"]))`"
   ]
  },
  {
   "cell_type": "markdown",
   "id": "b820ed77-62d9-4c9e-85d1-684683d19c47",
   "metadata": {},
   "source": [
    "1,2,6,7"
   ]
  },
  {
   "cell_type": "markdown",
   "id": "6747e9a7-9c41-41a1-8ef9-8ad78ca13529",
   "metadata": {},
   "source": [
    "For the options that don't print \"`2`\", explain why not:"
   ]
  },
  {
   "cell_type": "markdown",
   "id": "33f95dda-9763-4b55-87be-4bc13f96927e",
   "metadata": {},
   "source": [
    "3 prints 2.0, 4 prints 2.0, 5 is wrong number, 8 prints 2.0"
   ]
  },
  {
   "cell_type": "markdown",
   "id": "679f336c-3c31-4ed9-ac33-c1dd781db4e1",
   "metadata": {},
   "source": [
    "## Q20 (4 points)\n",
    "\n",
    "Given\n",
    "```python\n",
    "d = {\"apple\": [1.414, 1.618], \"banana\": [1.618, 1.414], \"canteloupe\": [2.718, 3.142], \"durian\": 1.618}\n",
    "```\n",
    "which of the following will print \"`1.618`\"?\n",
    "\n",
    "1. `print(d[\"apple\", 1])`\n",
    "1. `print(d[\"apple\"][1])`\n",
    "1. `print(d[\"banana\"])`\n",
    "1. `print(d[\"banana\"][0])`\n",
    "1. `print(d[\"banana\"][1])`\n",
    "1. `print(d[\"canteloupe\"][0])`\n",
    "1. `print(d[\"durian\"])`\n",
    "1. `print(d[\"durian\"][0])`"
   ]
  },
  {
   "cell_type": "markdown",
   "id": "5e553366-f75c-4cd0-baa6-4981ba45c350",
   "metadata": {},
   "source": [
    "2,4,7"
   ]
  },
  {
   "cell_type": "markdown",
   "id": "f838d700-9b97-4b4d-98c1-1c9214c240b7",
   "metadata": {},
   "source": [
    "For the options that don't print \"`1.618`\", explain why not:"
   ]
  },
  {
   "cell_type": "markdown",
   "id": "aede770a-409d-408d-817c-59af79fa723e",
   "metadata": {},
   "source": [
    "1 is wrong format, 3 will prints more than 1.618, 5 prints 1.414 6 prints 2.718, 8 prints nothing"
   ]
  },
  {
   "cell_type": "markdown",
   "id": "b8ff9855-ad88-4dc7-b470-bb74924b4450",
   "metadata": {},
   "source": [
    "## Q21 (4 points)\n",
    "\n",
    "Using the `enumerate()` command, fill in the blanks in the next cell to produce the ouput:\n",
    "```\n",
    "0: apple\n",
    "1: banana\n",
    "2: canteloupe\n",
    "3: durian\n",
    "```"
   ]
  },
  {
   "cell_type": "code",
   "execution_count": 16,
   "id": "dcde761e-08b9-46fc-ad67-df2be60adb7d",
   "metadata": {},
   "outputs": [
    {
     "name": "stdout",
     "output_type": "stream",
     "text": [
      "0:apple\n",
      "1:banana\n",
      "2:canteloupe\n",
      "3:durian\n"
     ]
    }
   ],
   "source": [
    "a = [\"apple\", \"banana\", \"canteloupe\", \"durian\"]\n",
    "\n",
    "for index, fruit in enumerate(a):\n",
    "    print(f\"{index}:{fruit}\")"
   ]
  },
  {
   "cell_type": "markdown",
   "id": "0aee09cf-f60c-450a-adbb-e8e421f548ed",
   "metadata": {},
   "source": [
    "## Q22 (4 pts)\n",
    "\n",
    "Fill in the blanks in the next cell to produce the ouput:\n",
    "```\n",
    "The value of apple is 1.414\n",
    "The value of banana is 1.618\n",
    "The value of canteloupe is 2.718\n",
    "The value of durian is 3.142\n",
    "```\n",
    "\n",
    "**note:** The lines may be in a different order"
   ]
  },
  {
   "cell_type": "code",
   "execution_count": 17,
   "id": "d53e0f56-dfe9-4a09-8bd3-5509d8b1456b",
   "metadata": {},
   "outputs": [
    {
     "name": "stdout",
     "output_type": "stream",
     "text": [
      "The value of apple is 1.414\n",
      "The value of banana is 1.618\n",
      "The value of canteloupe is 2.718\n",
      "The value of durian is 3.142\n"
     ]
    }
   ],
   "source": [
    "d = {\"apple\": 1.414, \"banana\": 1.618, \"canteloupe\": 2.718, \"durian\": 3.142}\n",
    "\n",
    "for fruit, value in d.items():\n",
    "    print(f\"The value of {fruit} is {value}\")"
   ]
  },
  {
   "cell_type": "markdown",
   "id": "153c8daf-e16a-4a7a-8bb0-a59a6f67cd34",
   "metadata": {},
   "source": [
    "## Q23 (4 pts)\n",
    "\n",
    "Using the `zip()` command, fill in the blanks in the next cell to produce the ouput:\n",
    "```\n",
    "fruit: apple, number: 1.414, valid: True\n",
    "fruit: banana, number: 1.618, valid: False\n",
    "fruit: canteloupe, number: 2.718, valid: False\n",
    "fruit: durian, number: 3.142, valid: True\n",
    "```"
   ]
  },
  {
   "cell_type": "code",
   "execution_count": 19,
   "id": "fbe30685-89cf-4128-9b14-a45f5bafc277",
   "metadata": {},
   "outputs": [
    {
     "name": "stdout",
     "output_type": "stream",
     "text": [
      "fruit: apple, number: 1.414, valid: True\n",
      "fruit: banana, number: 1.618, valid: False\n",
      "fruit: canteloupe, number: 2.718, valid: False\n",
      "fruit: durian, number: 3.142, valid: True\n"
     ]
    }
   ],
   "source": [
    "a = [\"apple\", \"banana\", \"canteloupe\", \"durian\"]\n",
    "b = [1.414, 1.618, 2.718, 3.142]\n",
    "c = [True, False, False, True]\n",
    "\n",
    "for fruit, number, valid in zip(a, b, c):\n",
    "    print(f\"fruit: {fruit}, number: {number}, valid: {valid}\")"
   ]
  },
  {
   "cell_type": "markdown",
   "id": "261f2b06-8903-487d-838d-eb6ed0a63959",
   "metadata": {},
   "source": [
    "## Q24 (4 pts)\n",
    "\n",
    "Fill in the blanks in the next cell to produce the ouput:\n",
    "```\n",
    "0: The value of apple is 1.414\n",
    "1: The value of banana is 1.618\n",
    "2: The value of canteloupe is 2.718\n",
    "3: The value of durian is 3.142\n",
    "```"
   ]
  },
  {
   "cell_type": "code",
   "execution_count": 20,
   "id": "a8f521eb-547f-4de2-98f1-d91c8128482f",
   "metadata": {},
   "outputs": [
    {
     "name": "stdout",
     "output_type": "stream",
     "text": [
      "0: The value of apple is 1.414\n",
      "1: The value of banana is 1.618\n",
      "2: The value of canteloupe is 2.718\n",
      "3: The value of durian is 3.142\n"
     ]
    }
   ],
   "source": [
    "d = {\"fruit\": [\"apple\", \"banana\", \"canteloupe\", \"durian\"],\n",
    "     \"transcendental number\": [1.414, 1.618, 2.718, 3.142],\n",
    "     \"valid\": [True, False, False, True]}\n",
    "\n",
    "for i, fruit in enumerate(d[\"fruit\"]):\n",
    "    print(f\"{i}: The value of {fruit} is {d['transcendental number'][i]}\")"
   ]
  },
  {
   "cell_type": "markdown",
   "id": "cf088a52-750f-49fb-8575-5f7165ceff4d",
   "metadata": {},
   "source": [
    "## Q25 (4 pts)\n",
    "\n",
    "Fill in the blanks in the next cell to produce the ouput:\n",
    "```\n",
    "0: The value of apple is 1.414\n",
    "3: The value of durian is 3.142\n",
    "```"
   ]
  },
  {
   "cell_type": "code",
   "execution_count": 21,
   "id": "87b773cd-da50-4513-ace9-097fa527691b",
   "metadata": {},
   "outputs": [
    {
     "name": "stdout",
     "output_type": "stream",
     "text": [
      "0: The value of apple is 1.414\n",
      "3: The value of durian is 3.142\n"
     ]
    }
   ],
   "source": [
    "d = {\"fruit\": [\"apple\", \"banana\", \"canteloupe\", \"durian\"],\n",
    "     \"transcendental number\": [1.414, 1.618, 2.718, 3.142],\n",
    "     \"valid\": [True, False, False, True]}\n",
    "\n",
    "for i, is_valid in enumerate(d[\"valid\"]):\n",
    "    if is_valid:\n",
    "        print(f\"{i}: The value of {d['fruit'][i]} is {d['transcendental number'][i]}\")"
   ]
  },
  {
   "cell_type": "code",
   "execution_count": null,
   "id": "d4734b20-a134-4fac-bd8b-fd6215a5bf18",
   "metadata": {},
   "outputs": [],
   "source": []
  }
 ],
 "metadata": {
  "kernelspec": {
   "display_name": "Python 3 (ipykernel)",
   "language": "python",
   "name": "python3"
  },
  "language_info": {
   "codemirror_mode": {
    "name": "ipython",
    "version": 3
   },
   "file_extension": ".py",
   "mimetype": "text/x-python",
   "name": "python",
   "nbconvert_exporter": "python",
   "pygments_lexer": "ipython3",
   "version": "3.12.5"
  }
 },
 "nbformat": 4,
 "nbformat_minor": 5
}
